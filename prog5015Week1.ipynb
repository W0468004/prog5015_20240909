{
 "cells": [
  {
   "cell_type": "code",
   "execution_count": 4,
   "id": "c25e94b6-4397-42b7-9899-612792f99376",
   "metadata": {},
   "outputs": [
    {
     "name": "stdout",
     "output_type": "stream",
     "text": [
      "hello world\n"
     ]
    }
   ],
   "source": [
    "# You know what it is, let's get this bread\n",
    "print(\"hello world\")"
   ]
  },
  {
   "cell_type": "code",
   "execution_count": 14,
   "id": "1f2694aa-d03a-4bda-9f3b-2d76e8403757",
   "metadata": {},
   "outputs": [
    {
     "name": "stdin",
     "output_type": "stream",
     "text": [
      "Enter your user ID:  test\n"
     ]
    },
    {
     "name": "stdout",
     "output_type": "stream",
     "text": [
      "Hello test\n"
     ]
    },
    {
     "name": "stdin",
     "output_type": "stream",
     "text": [
      "What would you like to do today?:\n",
      "1. Check balance\n",
      "2. Deposit\n",
      " test\n"
     ]
    }
   ],
   "source": [
    "# WORK IN PROGRESS\n",
    "\n",
    "# define balance variable\n",
    "balance = 0\n",
    "# Prompt user for username, store in variable\n",
    "username = input(\"Enter your user ID: \")\n",
    "print(f\"Hello {username}\")\n",
    "selection = input(\"What would you like to do today?:\\n1. Check balance\\n2. Deposit\\n\")\n"
   ]
  },
  {
   "cell_type": "code",
   "execution_count": null,
   "id": "e20beda7-d4ce-4f65-8c02-ebf39117a26e",
   "metadata": {},
   "outputs": [],
   "source": []
  }
 ],
 "metadata": {
  "kernelspec": {
   "display_name": "Python 3 (ipykernel)",
   "language": "python",
   "name": "python3"
  },
  "language_info": {
   "codemirror_mode": {
    "name": "ipython",
    "version": 3
   },
   "file_extension": ".py",
   "mimetype": "text/x-python",
   "name": "python",
   "nbconvert_exporter": "python",
   "pygments_lexer": "ipython3",
   "version": "3.12.5"
  }
 },
 "nbformat": 4,
 "nbformat_minor": 5
}
